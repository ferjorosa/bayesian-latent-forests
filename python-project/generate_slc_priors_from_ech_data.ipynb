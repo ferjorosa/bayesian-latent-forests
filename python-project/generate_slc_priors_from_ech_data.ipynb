{
 "cells": [
  {
   "cell_type": "markdown",
   "metadata": {},
   "source": [
    "# Purpose\n",
    "* We load the data from the continuous survey of Spanish households (CSSH).\n",
    "* We select the variables from CSSH that correspond to the spanish living conditions (SLC) data and obtain their statistics. The objective of these statistics is to introduce them as the parameters of the conjugated priors in our article."
   ]
  },
  {
   "cell_type": "code",
   "execution_count": 3,
   "metadata": {},
   "outputs": [
    {
     "name": "stdout",
     "output_type": "stream",
     "text": [
      "(100542, 27)\n"
     ]
    }
   ],
   "source": [
    "import pandas as pd\n",
    "import numpy as np\n",
    "\n",
    "echhogares18 = pd.read_csv(\"../data/mixed/spanish_living_conditions/ECHHogares_2018.csv\", sep=\"\\t\")\n",
    "echhogares18.name = \"ECHHogares_2018\"\n",
    "print(echhogares18.shape)"
   ]
  },
  {
   "cell_type": "markdown",
   "metadata": {},
   "source": [
    "We select 3 variables from the SLC data that have an equivalent in CCSH."
   ]
  },
  {
   "cell_type": "code",
   "execution_count": 4,
   "metadata": {},
   "outputs": [],
   "source": [
    "home_ownership = echhogares18.REGVI # Discrete\n",
    "family_members = echhogares18.TAMTOHO # Continuous\n",
    "home_rooms = echhogares18.HABVI # Continuous"
   ]
  },
  {
   "cell_type": "markdown",
   "metadata": {},
   "source": [
    "## Priors"
   ]
  },
  {
   "cell_type": "code",
   "execution_count": 5,
   "metadata": {},
   "outputs": [],
   "source": [
    "pseudocounts = 1 # Prior strength"
   ]
  },
  {
   "cell_type": "markdown",
   "metadata": {},
   "source": [
    "#### home_ownership\n",
    "\n",
    "\n",
    "Since <code>home_ownership</code> is a discrete variable, the parameters of its Dirichlet prior are simply the estimated frequencies multiplied by the pseudocounts, which represent the strength of the prior. We simply follow the provisions of <a href=\"https://en.wikipedia.org/wiki/Dirichlet_distribution#Conjugate_to_categorical/multinomial\"> Wikipedia </a>.\n",
    "\n",
    "Note: In this case it is not necessar, but when only a few instances are present, it would be advisable to do a Laplace smoothing."
   ]
  },
  {
   "cell_type": "code",
   "execution_count": 6,
   "metadata": {},
   "outputs": [
    {
     "name": "stdout",
     "output_type": "stream",
     "text": [
      "1    0.531549\n",
      "2    0.272612\n",
      "3    0.145899\n",
      "4    0.049939\n",
      "Name: REGVI, dtype: float64\n"
     ]
    }
   ],
   "source": [
    "home_ownership_freqs = home_ownership.value_counts()/home_ownership.count()\n",
    "print(home_ownership_freqs*pseudocounts)"
   ]
  },
  {
   "cell_type": "markdown",
   "metadata": {},
   "source": [
    "#### family_members\n",
    "\n",
    "\n",
    "Since <code>family_members</code> is a continuous variable, we assume Gaussianity. Therefore, its prior conjugate in our model is a Gaussian-Gamma. For the establishment of their <a href=\"https://en.wikipedia.org/wiki/Normal-gamma_distribution#Interpretation_of_parameters\"> parameters </a> we follow <a href = \"https: //en.wikipedia. org / wiki / Normal-gamma_distribution # Interpretation_of_parameters \"> Wikipedia </a>."
   ]
  },
  {
   "cell_type": "code",
   "execution_count": 7,
   "metadata": {},
   "outputs": [
    {
     "name": "stdout",
     "output_type": "stream",
     "text": [
      "Mean: 2.5228063893696167\n",
      "Precision: 0.7935804137514377\n",
      "\n",
      "Gaussian-Gamma parameters\n",
      "2.5228063893696167\n",
      "1\n",
      "0.5\n",
      "0.6300558725188096\n"
     ]
    }
   ],
   "source": [
    "import statistics as stats\n",
    "\n",
    "mean = stats.mean(family_members)\n",
    "precision = 1/stats.stdev(family_members)\n",
    "print(\"Mean: \" + str(mean))\n",
    "print(\"Precision: \" + str(precision))\n",
    "\n",
    "gg_param1 = mean\n",
    "gg_param2 = pseudocounts\n",
    "gg_param3 = pseudocounts/2.0\n",
    "gg_param4 = pseudocounts / (2.0 * precision)\n",
    "print(\"\\nGaussian-Gamma parameters\")\n",
    "print(gg_param1)\n",
    "print(gg_param2)\n",
    "print(gg_param3)\n",
    "print(gg_param4)"
   ]
  },
  {
   "cell_type": "markdown",
   "metadata": {},
   "source": [
    "#### home_rooms\n",
    "\n",
    "Same as <code>family_members</code>, <code>home_rooms</code> is a continuous variable, so we assume Gaussianity and estimate the parameters of the prior in the same way."
   ]
  },
  {
   "cell_type": "code",
   "execution_count": 8,
   "metadata": {},
   "outputs": [
    {
     "name": "stdout",
     "output_type": "stream",
     "text": [
      "Mean: 5.442680670764457\n",
      "Precision: 0.7374335840970437\n",
      "\n",
      "Gaussian-Gamma parameters\n",
      "5.442680670764457\n",
      "1\n",
      "0.5\n",
      "0.6780271617439676\n"
     ]
    }
   ],
   "source": [
    "import statistics as stats\n",
    "\n",
    "mean = stats.mean(home_rooms)\n",
    "precision = 1/stats.stdev(home_rooms)\n",
    "print(\"Mean: \" + str(mean))\n",
    "print(\"Precision: \" + str(precision))\n",
    "\n",
    "gg_param1 = mean\n",
    "gg_param2 = pseudocounts\n",
    "gg_param3 = pseudocounts/2.0\n",
    "gg_param4 = pseudocounts / (2.0 * precision)\n",
    "print(\"\\nGaussian-Gamma parameters\")\n",
    "print(gg_param1)\n",
    "print(gg_param2)\n",
    "print(gg_param3)\n",
    "print(gg_param4)"
   ]
  }
 ],
 "metadata": {
  "kernelspec": {
   "display_name": "Python 3",
   "language": "python",
   "name": "python3"
  },
  "language_info": {
   "codemirror_mode": {
    "name": "ipython",
    "version": 3
   },
   "file_extension": ".py",
   "mimetype": "text/x-python",
   "name": "python",
   "nbconvert_exporter": "python",
   "pygments_lexer": "ipython3",
   "version": "3.7.4"
  }
 },
 "nbformat": 4,
 "nbformat_minor": 4
}
