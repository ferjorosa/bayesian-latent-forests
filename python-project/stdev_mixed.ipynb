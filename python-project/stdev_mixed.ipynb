{
 "cells": [
  {
   "cell_type": "markdown",
   "metadata": {},
   "source": [
    "# Purpose\n",
    "\n",
    "The purpose of this notebook is the estiate the standard deviation values from the JSON results files and print them in Latex table format (for the supplementary material)."
   ]
  },
  {
   "cell_type": "code",
   "execution_count": 12,
   "metadata": {},
   "outputs": [],
   "source": [
    "run = 1\n",
    "numberOfFolds = 10\n",
    "\n",
    "data = [\n",
    "        \"spanish_living_conditions\"\n",
    "       ]\n",
    "\n",
    "methods = [\n",
    "           \"variational_LCM\", \n",
    "           \"variational_IL_max\",\n",
    "           \"variational_IL_1\", \n",
    "           \"variational_IL_10\",\n",
    "          ]\n",
    "\n",
    "base_directory_path = \"../results/\" "
   ]
  },
  {
   "cell_type": "code",
   "execution_count": 16,
   "metadata": {},
   "outputs": [
    {
     "name": "stdout",
     "output_type": "stream",
     "text": [
      "\n",
      "spanish_living_conditions\n",
      "256.16 & 36.93 & 17687.78 & 626.78 & 900.12 & 268.09 & 2582.00 & 257.66 & \n"
     ]
    }
   ],
   "source": [
    "import json\n",
    "import statistics as stats\n",
    "    \n",
    "for dataName in data:\n",
    "    \n",
    "    print(\"\\n\" + dataName)\n",
    "    string_to_show = \"\"\n",
    "    \n",
    "    for methodName in methods:\n",
    "        directoryName = dataName + \"/\" + methodName + \"/\"\n",
    "        jsonName = dataName + \"_results_\" + methodName + \".json\"\n",
    "        fullPath = base_directory_path + directoryName + jsonName\n",
    "        test_ll = []\n",
    "        learning_time = []\n",
    "        \n",
    "        try:\n",
    "            with open(fullPath) as json_file:\n",
    "                    jsonData = json.load(json_file)\n",
    "                    foldsData = jsonData[\"folds\"]\n",
    "                    for i in range(1,11):\n",
    "                        test_ll.append(foldsData[\"fold_\"+str(i)][\"test_LL\"])\n",
    "                        learning_time.append(foldsData[\"fold_\"+str(i)][\"learning_time\"])\n",
    "\n",
    "                    mean_ll = stats.mean(test_ll)\n",
    "                    stdev_ll = stats.stdev(test_ll)\n",
    "                    mean_time = stats.mean(learning_time)/1000\n",
    "                    stdev_time = stats.stdev(learning_time)/1000\n",
    "\n",
    "                    string_to_show = string_to_show + str(\"%0.2f\" % mean_time) + \" & \" + str(\"%0.2f\" % stdev_time) + \" & \"\n",
    "                    #string_to_show = string_to_show + str(\"%0.2f\" % mean_time) + \" & \"\n",
    "            \n",
    "        except:\n",
    "            print(\"Exception\")\n",
    "            string_to_show = string_to_show + \"\\multicolumn{2}{c|}{-}\" + \" & \"\n",
    "            #string_to_show = string_to_show + \"$---$\" + \" & \"\n",
    "    \n",
    "    print(string_to_show)"
   ]
  }
 ],
 "metadata": {
  "kernelspec": {
   "display_name": "Python 3",
   "language": "python",
   "name": "python3"
  },
  "language_info": {
   "codemirror_mode": {
    "name": "ipython",
    "version": 3
   },
   "file_extension": ".py",
   "mimetype": "text/x-python",
   "name": "python",
   "nbconvert_exporter": "python",
   "pygments_lexer": "ipython3",
   "version": "3.7.4"
  }
 },
 "nbformat": 4,
 "nbformat_minor": 4
}
