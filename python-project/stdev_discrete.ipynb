{
 "cells": [
  {
   "cell_type": "markdown",
   "metadata": {},
   "source": [
    "# Purpose\n",
    "\n",
    "The purpose of this notebook is the estiate the standard deviation values from the JSON results files and print them in Latex table format (for the supplementary material)."
   ]
  },
  {
   "cell_type": "code",
   "execution_count": 11,
   "metadata": {
    "pycharm": {
     "is_executing": true
    }
   },
   "outputs": [],
   "source": [
    "run = 1\n",
    "numberOfFolds = 10\n",
    "\n",
    "data = [\n",
    "        \"hiv_test\", \n",
    "        \"house_building\", \n",
    "        \"hayes_roth\", \n",
    "        \"balance_scale\", \n",
    "        \"car_evaluation\", \n",
    "        \"nursery\", \n",
    "        \"breast_cancer\", \n",
    "        \"vote\", \n",
    "        \"mushroom\", \n",
    "        \"pascal_voc_2007\", \n",
    "        \"spect_heart\", \n",
    "        \"alarm\", \n",
    "        \"coil_42\", \n",
    "        \"news_100\",\n",
    "        \"webkb_336\"\n",
    "       ]\n",
    "\n",
    "methods = [\n",
    "           \"binA\",\n",
    "           \"EAST\",\n",
    "           \"BI\",\n",
    "           \"MSPN\",\n",
    "           \"IL\",\n",
    "           \"CIL_1\", \n",
    "           \"CIL_10\",\n",
    "          ]\n",
    "\n",
    "base_directory_path = \"../results/run_\" + str(run) + \"/discrete/\" "
   ]
  },
  {
   "cell_type": "markdown",
   "metadata": {},
   "source": [
    "Por cada metodo y dataset hay 10 folds. Cada fold tiene un learning time y un test_ll. El objetivo es generar los stdevds de cada uno de ellos"
   ]
  },
  {
   "cell_type": "code",
   "execution_count": 15,
   "metadata": {},
   "outputs": [
    {
     "name": "stdout",
     "output_type": "stream",
     "text": [
      "\n",
      "hiv_test\n",
      "2.06 & 0.11 & 0.66 & 0.13 & 0.57 & 0.14 & 0.30 & 0.11 & 1.22 & 0.02 & 0.51 & 0.05 & 1.00 & 0.05 & \n",
      "\n",
      "house_building\n",
      "6.92 & 1.21 & 1.11 & 0.07 & 1.19 & 0.13 & 0.25 & 0.01 & 4.13 & 0.19 & 1.61 & 0.14 & 3.24 & 0.13 & \n",
      "\n",
      "hayes_roth\n",
      "1.03 & 0.28 & 2.15 & 0.07 & 1.71 & 0.09 & 1.50 & 0.11 & 1.45 & 0.07 & 0.41 & 0.02 & 0.99 & 0.09 & \n",
      "\n",
      "balance_scale\n",
      "5.70 & 1.85 & 7.94 & 0.12 & 5.63 & 0.12 & 5.28 & 1.66 & 3.51 & 0.09 & 2.23 & 0.38 & 4.19 & 0.18 & \n",
      "\n",
      "car_evaluation\n",
      "21.18 & 5.39 & 243.66 & 52.14 & 38.83 & 21.99 & 4.04 & 1.12 & 32.09 & 0.23 & 7.29 & 1.43 & 27.85 & 0.62 & \n",
      "\n",
      "nursery\n",
      "403.18 & 90.94 & 6977.54 & 2471.52 & 496.93 & 280.72 & 6.23 & 1.23 & 800.37 & 20.26 & 44.87 & 1.94 & 449.10 & 21.87 & \n",
      "\n",
      "breast_cancer\n",
      "4.13 & 0.20 & 44.63 & 11.41 & 8.50 & 1.28 & 3.86 & 0.51 & 30.86 & 1.98 & 9.05 & 1.86 & 23.25 & 2.03 & \n",
      "\n",
      "vote\n",
      "13.17 & 5.64 & 96.00 & 15.19 & 13.77 & 3.40 & 3.61 & 0.38 & 64.31 & 1.21 & 2.42 & 0.08 & 12.71 & 0.25 & \n",
      "\n",
      "mushroom\n",
      "595.59 & 140.59 & 21124.53 & 2703.19 & 968.38 & 637.89 & 56.56 & 6.57 & 6114.58 & 279.79 & 193.81 & 16.49 & 974.22 & 44.81 & \n",
      "\n",
      "pascal_voc_2007\n",
      "378.12 & 93.99 & 8520.83 & 1253.69 & 310.81 & 92.73 & 82.51 & 7.85 & 17685.83 & 1209.37 & 616.19 & 157.23 & 2364.90 & 385.16 & \n",
      "\n",
      "spect_heart\n",
      "18.76 & 2.53 & 328.52 & 50.97 & 12.84 & 2.08 & 8.46 & 1.18 & 237.04 & 4.15 & 4.66 & 0.05 & 27.80 & 0.44 & \n",
      "\n",
      "alarm\n",
      "231.82 & 47.67 & 4592.03 & 746.44 & 67.42 & 3.72 & 75.98 & 9.73 & 6209.85 & 55.82 & 40.67 & 4.67 & 293.53 & 15.44 & \n",
      "\n",
      "coil_42\n",
      "670.53 & 38.27 & 27531.16 & 3032.85 & 254.00 & 14.54 & 33.55 & 3.00 & \\multicolumn{2}{c|}{-} & 261.85 & 36.21 & 2446.87 & 116.52 & \n",
      "\n",
      "news_100\n",
      "3714.78 & 2461.03 & \\multicolumn{2}{c|}{-} & 2537.71 & 150.19 & 142.22 & 6.91 & \\multicolumn{2}{c|}{-} & 4809.26 & 408.17 & 38156.47 & 2320.58 & \n",
      "\n",
      "webkb_336\n",
      "2505.02 & 261.23 & \\multicolumn{2}{c|}{-} & 1244.90 & 36.40 & 2139.86 & 344.65 & \\multicolumn{2}{c|}{-} & 2266.56 & 59.96 & 22448.31 & 926.31 & \n"
     ]
    }
   ],
   "source": [
    "import json\n",
    "import statistics as stats\n",
    "    \n",
    "for dataName in data:\n",
    "    \n",
    "    print(\"\\n\" + dataName)\n",
    "    string_to_show = \"\"\n",
    "    \n",
    "    for methodName in methods:\n",
    "        directoryName = dataName + \"/\" + str(numberOfFolds) + \"_folds/\" + methodName + \"/\"\n",
    "        jsonName = dataName + \"_results_\" + methodName + \".json\"\n",
    "        fullPath = base_directory_path + directoryName + jsonName\n",
    "        test_ll = []\n",
    "        learning_time = []\n",
    "        \n",
    "        try:\n",
    "            with open(fullPath) as json_file:\n",
    "                    jsonData = json.load(json_file)\n",
    "                    foldsData = jsonData[\"folds\"]\n",
    "                    for i in range(1,11):\n",
    "                        test_ll.append(foldsData[\"fold_\"+str(i)][\"test_LL\"])\n",
    "                        learning_time.append(foldsData[\"fold_\"+str(i)][\"learning_time\"])\n",
    "\n",
    "                    mean_ll = stats.mean(test_ll)\n",
    "                    stdev_ll = stats.stdev(test_ll)\n",
    "                    mean_time = stats.mean(learning_time)/1000\n",
    "                    stdev_time = stats.stdev(learning_time)/1000\n",
    "\n",
    "                    string_to_show = string_to_show + str(\"%0.2f\" % mean_time) + \" & \" + str(\"%0.2f\" % stdev_time) + \" & \"\n",
    "                    #string_to_show = string_to_show + str(\"%0.2f\" % mean_ll) + \" & \"\n",
    "            \n",
    "        except:\n",
    "            string_to_show = string_to_show + \"\\multicolumn{2}{c|}{-}\" + \" & \"\n",
    "            #string_to_show = string_to_show + \"$---$\" + \" & \"\n",
    "    \n",
    "    print(string_to_show)"
   ]
  }
 ],
 "metadata": {
  "kernelspec": {
   "display_name": "Python 3",
   "language": "python",
   "name": "python3"
  },
  "language_info": {
   "codemirror_mode": {
    "name": "ipython",
    "version": 3
   },
   "file_extension": ".py",
   "mimetype": "text/x-python",
   "name": "python",
   "nbconvert_exporter": "python",
   "pygments_lexer": "ipython3",
   "version": "3.7.4"
  }
 },
 "nbformat": 4,
 "nbformat_minor": 4
}
