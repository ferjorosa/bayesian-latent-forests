{
 "cells": [
  {
   "cell_type": "markdown",
   "metadata": {},
   "source": [
    "# Purpose\n",
    "\n",
    "The purpose of this notebook is the estiate the standard deviation values from the JSON results files and print them in Latex table format (for the supplementary material)."
   ]
  },
  {
   "cell_type": "code",
   "execution_count": 60,
   "metadata": {},
   "outputs": [],
   "source": [
    "run = 1\n",
    "numberOfFolds = 10\n",
    "\n",
    "data = [\n",
    "        \"hiv_test\", \n",
    "        \"house_building\", \n",
    "        \"hayes_roth\", \n",
    "        \"balance_scale\", \n",
    "        \"car_evaluation\", \n",
    "        \"nursery\", \n",
    "        \"breast_cancer\", \n",
    "        \"vote\", \n",
    "        \"mushroom\", \n",
    "        \"pascal_voc_2007\", \n",
    "        \"spect_heart\", \n",
    "        \"alarm\", \n",
    "        \"coil_42\", \n",
    "        \"news_100\", \n",
    "        \"webkb_336\"\n",
    "       ]\n",
    "\n",
    "methods = [\n",
    "           \"LCM\", \n",
    "           \"binA\", \n",
    "           \"BI\", \n",
    "           \"EAST\", \n",
    "           \"variational_IL_max\",\n",
    "           \"variational_IL_1\", \n",
    "           \"variational_IL_10\",\n",
    "          ]\n",
    "\n",
    "base_directory_path = \"../results/run_\" + str(run) + \"/discrete/\" "
   ]
  },
  {
   "cell_type": "markdown",
   "metadata": {},
   "source": [
    "Por cada metodo y dataset hay 10 folds. Cada fold tiene un learning time y un test_ll. El objetivo es generar los stdevds de cada uno de ellos"
   ]
  },
  {
   "cell_type": "code",
   "execution_count": 61,
   "metadata": {},
   "outputs": [
    {
     "name": "stdout",
     "output_type": "stream",
     "text": [
      "\n",
      "hiv_test\n",
      "0.08 & 2.06 & 0.57 & 0.66 & 1.22 & 0.51 & 1.00 & \n",
      "\n",
      "house_building\n",
      "0.48 & 6.92 & 1.19 & 1.11 & 4.13 & 1.61 & 3.24 & \n",
      "\n",
      "hayes_roth\n",
      "0.91 & 1.03 & 1.71 & 2.15 & 1.45 & 0.41 & 0.99 & \n",
      "\n",
      "balance_scale\n",
      "9.63 & 5.70 & 5.63 & 7.94 & 3.51 & 2.23 & 4.19 & \n",
      "\n",
      "car_evaluation\n",
      "113.22 & 21.18 & 38.83 & 243.66 & 32.09 & 7.29 & 27.85 & \n",
      "\n",
      "nursery\n",
      "2603.94 & 403.18 & 496.93 & 6977.54 & 800.37 & 44.87 & 449.10 & \n",
      "\n",
      "breast_cancer\n",
      "5.97 & 4.13 & 8.50 & 44.63 & 30.86 & 9.05 & 23.25 & \n",
      "\n",
      "vote\n",
      "12.20 & 13.17 & 13.77 & 96.00 & 64.31 & 2.42 & 12.71 & \n",
      "\n",
      "mushroom\n",
      "1612.86 & 595.59 & 968.38 & 21124.53 & 6114.58 & 193.81 & 974.22 & \n",
      "\n",
      "pascal_voc_2007\n",
      "1185.54 & 378.12 & 310.81 & 8520.83 & 17685.83 & 616.19 & 2364.90 & \n",
      "\n",
      "spect_heart\n",
      "42.51 & 18.76 & 12.84 & 328.52 & 237.04 & 4.66 & 27.80 & \n",
      "\n",
      "alarm\n",
      "318.97 & 231.82 & 67.42 & 4592.03 & 6209.85 & 40.67 & 293.53 & \n",
      "\n",
      "coil_42\n",
      "2189.95 & 670.53 & 254.00 & 27531.16 & $---$ & 261.85 & 2446.87 & \n",
      "\n",
      "news_100\n",
      "50615.19 & 3714.78 & 2537.71 & $---$ & $---$ & 4809.26 & 38156.47 & \n",
      "\n",
      "webkb_336\n",
      "9121.28 & 2505.02 & 1244.90 & $---$ & $---$ & 2266.56 & 22448.31 & \n"
     ]
    }
   ],
   "source": [
    "import json\n",
    "import statistics as stats\n",
    "    \n",
    "for dataName in data:\n",
    "    \n",
    "    print(\"\\n\" + dataName)\n",
    "    string_to_show = \"\"\n",
    "    \n",
    "    for methodName in methods:\n",
    "        directoryName = dataName + \"/\" + str(numberOfFolds) + \"_folds/\" + methodName + \"/\"\n",
    "        jsonName = dataName + \"_results_\" + methodName + \".json\"\n",
    "        fullPath = base_directory_path + directoryName + jsonName\n",
    "        test_ll = []\n",
    "        learning_time = []\n",
    "        \n",
    "        try:\n",
    "            with open(fullPath) as json_file:\n",
    "                    jsonData = json.load(json_file)\n",
    "                    foldsData = jsonData[\"folds\"]\n",
    "                    for i in range(1,11):\n",
    "                        test_ll.append(foldsData[\"fold_\"+str(i)][\"test_LL\"])\n",
    "                        learning_time.append(foldsData[\"fold_\"+str(i)][\"learning_time\"])\n",
    "\n",
    "                    mean_ll = stats.mean(test_ll)\n",
    "                    stdev_ll = stats.stdev(test_ll)\n",
    "                    mean_time = stats.mean(learning_time)/1000\n",
    "                    stdev_time = stats.stdev(learning_time)/1000\n",
    "\n",
    "                    #string_to_show = string_to_show + str(\"%0.2f\" % mean_ll) + \" & \" + str(\"%0.2f\" % stdev_ll) + \" & \"\n",
    "                    string_to_show = string_to_show + str(\"%0.2f\" % mean_ll) + \" & \"\n",
    "            \n",
    "        except:\n",
    "            #string_to_show = string_to_show + \"\\multicolumn{2}{c|}{-}\" + \" & \"\n",
    "            string_to_show = string_to_show + \"$---$\" + \" & \"\n",
    "    \n",
    "    print(string_to_show)"
   ]
  }
 ],
 "metadata": {
  "kernelspec": {
   "display_name": "Python 3",
   "language": "python",
   "name": "python3"
  },
  "language_info": {
   "codemirror_mode": {
    "name": "ipython",
    "version": 3
   },
   "file_extension": ".py",
   "mimetype": "text/x-python",
   "name": "python",
   "nbconvert_exporter": "python",
   "pygments_lexer": "ipython3",
   "version": "3.7.4"
  }
 },
 "nbformat": 4,
 "nbformat_minor": 4
}
